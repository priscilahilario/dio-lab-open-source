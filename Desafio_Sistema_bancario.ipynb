{
  "nbformat": 4,
  "nbformat_minor": 0,
  "metadata": {
    "colab": {
      "provenance": [],
      "authorship_tag": "ABX9TyPA5sb7uzCNRgt3N0yy5Zh5",
      "include_colab_link": true
    },
    "kernelspec": {
      "name": "python3",
      "display_name": "Python 3"
    },
    "language_info": {
      "name": "python"
    }
  },
  "cells": [
    {
      "cell_type": "markdown",
      "metadata": {
        "id": "view-in-github",
        "colab_type": "text"
      },
      "source": [
        "<a href=\"https://colab.research.google.com/github/priscilahilario/dio-lab-open-source/blob/main/Desafio_Sistema_bancario.ipynb\" target=\"_parent\"><img src=\"https://colab.research.google.com/assets/colab-badge.svg\" alt=\"Open In Colab\"/></a>"
      ]
    },
    {
      "cell_type": "code",
      "execution_count": 25,
      "metadata": {
        "colab": {
          "base_uri": "https://localhost:8080/"
        },
        "id": "42kidXg9nlBl",
        "outputId": "48d5e513-b07d-496d-ca3f-fd2858c0cdbf"
      },
      "outputs": [
        {
          "name": "stdout",
          "output_type": "stream",
          "text": [
            "\n",
            "[1] Depositar\n",
            "[2] Sacar\n",
            "[3] Extrato\n",
            "[0] Sair\n",
            "=> 1\n",
            "Informe o valor para deposito R$:  2000.00\n",
            "Opção inválida, por favor selecione novamente a operação desejada.\n",
            "\n",
            "[1] Depositar\n",
            "[2] Sacar\n",
            "[3] Extrato\n",
            "[0] Sair\n",
            "=> 3\n",
            "\n",
            "*************** EXTRATO ***************\n",
            "Deposito R$ 2000.00\n",
            "\n",
            "\n",
            "Saldo: R$ 4000.00\n",
            "****************************************\n",
            "\n",
            "[1] Depositar\n",
            "[2] Sacar\n",
            "[3] Extrato\n",
            "[0] Sair\n",
            "=> 0\n"
          ]
        }
      ],
      "source": [
        "menu = '''\n",
        "[1] Depositar\n",
        "[2] Sacar\n",
        "[3] Extrato\n",
        "[0] Sair\n",
        "=> '''\n",
        "\n",
        "valor = 0\n",
        "saldo = 0\n",
        "limite = 500\n",
        "extrato = \"\"\n",
        "numeroSaques = 0\n",
        "LIMITE_SAQUES = 3\n",
        "\n",
        "while True:\n",
        "\n",
        "  opcao = input(menu)\n",
        "\n",
        "  if opcao == \"1\":\n",
        "     valor = float (input(\"Informe o valor para deposito R$:  \"))\n",
        "\n",
        "  if valor > 0:\n",
        "          saldo += valor\n",
        "          extrato = f\"Deposito R$ {valor:.2f}\\n\"\n",
        "\n",
        "  else:\n",
        "      print(\"Operação não concluída! O valor informado é invalido. Tente novamente\")\n",
        "\n",
        "  if opcao == \"2\":\n",
        "      valor = float (input(\"Informe o valor que deseja sacar R$: \"))\n",
        "\n",
        "      excedeu_saldo = valor > saldo\n",
        "      excedeu_limite = valor > limite\n",
        "      excedeu_saques = numeroSaques >= LIMITE_SAQUES\n",
        "\n",
        "      if excedeu_saldo:\n",
        "        print(\"Operação não realizada! Voce não tem saldo suficiente!\")\n",
        "\n",
        "      elif excedeu_limite:\n",
        "        print(\"Operação não realizada! O valor do saque excede o limite em conta!\")\n",
        "\n",
        "      elif excedeu_saques:\n",
        "        print(\"Operação não realizada! Numero máximo de saques atingido!\")\n",
        "\n",
        "      elif valor > 0:\n",
        "        saldo -= valor\n",
        "        extrato = f\"Saque: R$ {valor:.2f}\\n\"\n",
        "        numeroSaques == 1\n",
        "\n",
        "      else:\n",
        "        print(\"Operação não realizada! Valor informado é inválido\")\n",
        "\n",
        "  elif opcao == \"3\":\n",
        "      print(\"\\n*************** EXTRATO ***************\")\n",
        "      print(\"Não foram realizadas movimentações.\" if not extrato else extrato)\n",
        "      print(f\"\\nSaldo: R$ {saldo:.2f}\")\n",
        "      print (\"****************************************\")\n",
        "\n",
        "  elif opcao == \"0\":\n",
        "      break\n",
        "\n",
        "  else:\n",
        "      print (\"Opção inválida, por favor selecione novamente a operação desejada.\")"
      ]
    }
  ]
}